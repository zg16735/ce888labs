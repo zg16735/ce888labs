{
 "cells": [
  {
   "cell_type": "code",
   "execution_count": 7,
   "metadata": {
    "collapsed": false
   },
   "outputs": [],
   "source": [
    "\n",
    "with open ('qa1_single-supporting-fact_test.txt') as f:\n",
    "        for line in f:\n",
    "            datalist1 = line.strip().split('\\t')"
   ]
  },
  {
   "cell_type": "code",
   "execution_count": 8,
   "metadata": {
    "collapsed": false
   },
   "outputs": [],
   "source": [
    "\n",
    "with open ('qa1_single-supporting-fact_train.txt') as f:\n",
    "        for line in f:\n",
    "            datalist2 = line.strip().split('\\t')"
   ]
  },
  {
   "cell_type": "code",
   "execution_count": 9,
   "metadata": {
    "collapsed": true
   },
   "outputs": [],
   "source": [
    "\n",
    "with open ('qa2_two-supporting-facts_test.txt') as f:\n",
    "        for line in f:\n",
    "            datalist3 = line.strip().split('\\t')"
   ]
  },
  {
   "cell_type": "code",
   "execution_count": 10,
   "metadata": {
    "collapsed": true
   },
   "outputs": [],
   "source": [
    "\n",
    "with open ('qa2_two-supporting-facts_train.txt') as f:\n",
    "        for line in f:\n",
    "            datalist4 = line.strip().split('\\t')"
   ]
  },
  {
   "cell_type": "code",
   "execution_count": 12,
   "metadata": {
    "collapsed": false
   },
   "outputs": [],
   "source": [
    "\n",
    "with open ('qa3_three-supporting-facts_test.txt') as f:\n",
    "        for line in f:\n",
    "            datalist5 = line.strip().split('\\t')"
   ]
  },
  {
   "cell_type": "code",
   "execution_count": 13,
   "metadata": {
    "collapsed": true
   },
   "outputs": [],
   "source": [
    "\n",
    "with open ('qa3_three-supporting-facts_train.txt') as f:\n",
    "        for line in f:\n",
    "            datalist6 = line.strip().split('\\t')"
   ]
  },
  {
   "cell_type": "code",
   "execution_count": 14,
   "metadata": {
    "collapsed": true
   },
   "outputs": [],
   "source": [
    "\n",
    "with open ('qa4_two-arg-relations_test.txt') as f:\n",
    "        for line in f:\n",
    "            datalist7 = line.strip().split('\\t')"
   ]
  },
  {
   "cell_type": "code",
   "execution_count": 15,
   "metadata": {
    "collapsed": true
   },
   "outputs": [],
   "source": [
    "\n",
    "with open ('qa4_two-arg-relations_train.txt') as f:\n",
    "        for line in f:\n",
    "            datalist8 = line.strip().split('\\t')"
   ]
  },
  {
   "cell_type": "code",
   "execution_count": 16,
   "metadata": {
    "collapsed": true
   },
   "outputs": [],
   "source": [
    "\n",
    "with open ('qa5_three-arg-relations_test.txt') as f:\n",
    "        for line in f:\n",
    "            datalist9 = line.strip().split('\\t')"
   ]
  },
  {
   "cell_type": "code",
   "execution_count": 17,
   "metadata": {
    "collapsed": true
   },
   "outputs": [],
   "source": [
    "\n",
    "with open ('qa5_three-arg-relations_train.txt') as f:\n",
    "        for line in f:\n",
    "            datalist10 = line.strip().split('\\t')"
   ]
  },
  {
   "cell_type": "code",
   "execution_count": 18,
   "metadata": {
    "collapsed": true
   },
   "outputs": [],
   "source": [
    "\n",
    "with open ('qa6_yes-no-questions_test.txt') as f:\n",
    "        for line in f:\n",
    "            datalist11 = line.strip().split('\\t')"
   ]
  },
  {
   "cell_type": "code",
   "execution_count": 19,
   "metadata": {
    "collapsed": true
   },
   "outputs": [],
   "source": [
    "\n",
    "with open ('qa6_yes-no-questions_train.txt') as f:\n",
    "        for line in f:\n",
    "            datalist12 = line.strip().split('\\t')"
   ]
  },
  {
   "cell_type": "code",
   "execution_count": 20,
   "metadata": {
    "collapsed": true
   },
   "outputs": [],
   "source": [
    "\n",
    "with open ('qa7_counting_test.txt') as f:\n",
    "        for line in f:\n",
    "            datalist13 = line.strip().split('\\t')"
   ]
  },
  {
   "cell_type": "code",
   "execution_count": 21,
   "metadata": {
    "collapsed": true
   },
   "outputs": [],
   "source": [
    "\n",
    "with open ('qa7_counting_train.txt') as f:\n",
    "        for line in f:\n",
    "            datalist14 = line.strip().split('\\t')"
   ]
  },
  {
   "cell_type": "code",
   "execution_count": 22,
   "metadata": {
    "collapsed": true
   },
   "outputs": [],
   "source": [
    "\n",
    "with open ('qa8_lists-sets_test.txt') as f:\n",
    "        for line in f:\n",
    "            datalist15 = line.strip().split('\\t')"
   ]
  },
  {
   "cell_type": "code",
   "execution_count": 23,
   "metadata": {
    "collapsed": true
   },
   "outputs": [],
   "source": [
    "\n",
    "with open ('qa8_lists-sets_train.txt') as f:\n",
    "        for line in f:\n",
    "            datalist16 = line.strip().split('\\t')"
   ]
  },
  {
   "cell_type": "code",
   "execution_count": 24,
   "metadata": {
    "collapsed": true
   },
   "outputs": [],
   "source": [
    "with open ('qa9_simple-negation_test.txt') as f:\n",
    "        for line in f:\n",
    "            datalist17 = line.strip().split('\\t')"
   ]
  },
  {
   "cell_type": "code",
   "execution_count": 25,
   "metadata": {
    "collapsed": true
   },
   "outputs": [],
   "source": [
    "with open ('qa9_simple-negation_train.txt') as f:\n",
    "        for line in f:\n",
    "            datalist18 = line.strip().split('\\t')"
   ]
  },
  {
   "cell_type": "code",
   "execution_count": 26,
   "metadata": {
    "collapsed": true
   },
   "outputs": [],
   "source": [
    "with open ('qa10_indefinite-knowledge_test.txt') as f:\n",
    "        for line in f:\n",
    "            datalist19 = line.strip().split('\\t')"
   ]
  },
  {
   "cell_type": "code",
   "execution_count": 27,
   "metadata": {
    "collapsed": true
   },
   "outputs": [],
   "source": [
    "with open ('qa10_indefinite-knowledge_train.txt') as f:\n",
    "        for line in f:\n",
    "            datalist20 = line.strip().split('\\t')"
   ]
  },
  {
   "cell_type": "code",
   "execution_count": null,
   "metadata": {
    "collapsed": true
   },
   "outputs": [],
   "source": []
  }
 ],
 "metadata": {
  "kernelspec": {
   "display_name": "Python 2",
   "language": "python",
   "name": "python2"
  },
  "language_info": {
   "codemirror_mode": {
    "name": "ipython",
    "version": 2
   },
   "file_extension": ".py",
   "mimetype": "text/x-python",
   "name": "python",
   "nbconvert_exporter": "python",
   "pygments_lexer": "ipython2",
   "version": "2.7.12"
  }
 },
 "nbformat": 4,
 "nbformat_minor": 2
}
