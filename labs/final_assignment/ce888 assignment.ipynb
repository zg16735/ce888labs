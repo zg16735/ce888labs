{
 "cells": [
  {
   "cell_type": "code",
   "execution_count": 23,
   "metadata": {
    "collapsed": false
   },
   "outputs": [],
   "source": [
    "#code by Gao Ziyuan\n",
    "#CE888 Assignment: Question Answering using Random Forests\n",
    "#using data in \\\\mlvm\\mlvm\\ce888labs\\ce888labs\\labs\\assignment1\\*.txt\n",
    "\n",
    "\n",
    "import numpy as np\n",
    "\n",
    "word_dict = dict(nil = 0)  # define and initialize the dictionary of words\n",
    "\n",
    "# function name: ConvertVector\n",
    "# function: convert the text data to numeric representation\n",
    "#           store the representation of stories with questions in a matrix\n",
    "#           store the representation of answers in another matrix\n",
    "# data_name : list that stores filename of data\n",
    "# word_dict : dictionary storing words and corresponding numbers\n",
    "# story_question : two-dimensional matrix (index of story,index of word)\n",
    "# final_answer : one-dimensional matrix (index of answer)\n",
    "def ConvertVector(data_name,word_dict):\n",
    "    len_words =0               # define maximum length of words\n",
    "    len_sentences =0           # define the maximum length of sentences\n",
    "    q_signal= False            # define the signal of whether there is a question in this line\n",
    "    \n",
    "    # initialize the two-dimensional matrix including stories and questions\n",
    "    story_question = np.zeros((5000,1000*len(data_name)),np.int32)\n",
    "    # initialize the one-dimensional matrix including answers\n",
    "    final_answer = np.zeros(1000*len(data_name),np.int32)\n",
    "\n",
    "    story_num = -1             # define index of story in the data\n",
    "    sentence_num = -1          # define index of sentence in a story\n",
    "    question_num = -1          # define index of question in the data\n",
    "    line_num = -1              # define a signal to check whether next line is the start of a new story\n",
    "\n",
    "    for i in range(len(data_name)):\n",
    "        with open (data_name[i]) as f:   # open the data file in order\n",
    "            for line in f:               # load every line\n",
    "                line_num += 1\n",
    "                datalist = line.split()  # split the whole line into many strings\n",
    "                # When the line number is 1 or the last line includes questions,\n",
    "                # The index of story increments by 1 and the index of sentence initializes.\n",
    "                if (datalist[0] == '1') or (line_num == -1):\n",
    "                    story_num += 1\n",
    "                    sentence_num = -1\n",
    "                sentence_num += 1 # index of sentence increments all the time\n",
    "                # check whether it is the quesion line\n",
    "                if line.find('?') == -1: \n",
    "                    q_signal = False\n",
    "                else:\n",
    "                    q_signal = True\n",
    "                    question_num += 1 # increment of index of question \n",
    "                    line_num = -2 # initialization of the signal\n",
    "            \n",
    "                for j in range(1,len(datalist)): # Load every word in order in a line\n",
    "                    word = datalist[j].lower() # Lower every word\n",
    "                    # Remove the punctuation of the word \n",
    "                    if word[-1] == '.' or word[-1] == '?':\n",
    "                        word = word[0:-1]\n",
    "                    len_words = max(len_words,j)\n",
    "                    # Save the words in the data into the dictionary\n",
    "                    if not(word_dict.has_key(word)):\n",
    "                        word_dict[word] = len(word_dict)\n",
    "                    # Give story_question matrix the integer value in the dictionary corresponding to the word\n",
    "                    story_question[(j-1)+20*sentence_num,story_num] = word_dict[word]\n",
    "                    if (q_signal):\n",
    "                        if datalist[j][-1] =='?':\n",
    "                            ans =datalist[j+1].lower() # Lower the answers\n",
    "                            # Save the words in the data into the dictionary\n",
    "                            if not(word_dict.has_key(ans)):\n",
    "                                word_dict[ans] = len(word_dict)\n",
    "                            # Put the numeric representation of answers into final_answer matrix\n",
    "                            final_answer[question_num] = word_dict[ans]\n",
    "                            break # Skip the loop and remove parameter 'idx'  \n",
    "                len_sentences = max(len_sentences,sentence_num+1)\n",
    "\n",
    "    # Transposition  of  story_question matrix            \n",
    "    story_question = np.transpose(story_question[0:len_words+20*len_sentences, 0:story_num+1])\n",
    "    return (story_question,final_answer)\n",
    "                                              "
   ]
  },
  {
   "cell_type": "code",
   "execution_count": 24,
   "metadata": {
    "collapsed": false
   },
   "outputs": [
    {
     "name": "stdout",
     "output_type": "stream",
     "text": [
      "[[  1   2   3 ...,   0   0   0]\n",
      " [ 11   7  12 ...,   0   0   0]\n",
      " [  6   2   3 ...,   0   0   0]\n",
      " ..., \n",
      " [147  33   4 ...,   0   0   0]\n",
      " [154  10 159 ...,   0   0   0]\n",
      " [158  37   4 ...,   0   0   0]]\n",
      "[  5   8   8 ..., 148  19 155]\n",
      "[[  6  17   3 ...,   0   0   0]\n",
      " [ 11   7  12 ...,   0   0   0]\n",
      " [  6   7   3 ...,   0   0   0]\n",
      " ..., \n",
      " [147  10 155 ...,   0   0   0]\n",
      " [154  40   4 ...,   0   0   0]\n",
      " [147  17   3 ...,   0   0   0]]\n",
      "[  8   5  19 ...,  14 159 155]\n"
     ]
    }
   ],
   "source": [
    "from glob import glob\n",
    "\n",
    "# Load training datasets\n",
    "train_data_name = [glob('qa' + str(t) + '_*_train.txt')[0] for t in xrange(1, 21) if t!=2 and t!=3 and t!=5 and t!=8]\n",
    "train_story_question, train_final_answer = ConvertVector(train_data_name,word_dict)\n",
    "\n",
    "print (train_story_question)\n",
    "print (train_final_answer)\n",
    "\n",
    "# Load testing datasets\n",
    "test_data_name = [glob('qa' + str(t) + '_*_test.txt')[0] for t in xrange(1, 21) if t!=2 and t!=3 and t!=5 and t!=8 ]\n",
    "test_story_question, test_final_answer = ConvertVector(test_data_name,word_dict)\n",
    "\n",
    "print (test_story_question)\n",
    "print (test_final_answer) "
   ]
  },
  {
   "cell_type": "code",
   "execution_count": 25,
   "metadata": {
    "collapsed": false
   },
   "outputs": [
    {
     "name": "stdout",
     "output_type": "stream",
     "text": [
      "(16000, 551)\n",
      "(16000,)\n",
      "(16000, 551)\n",
      "(16000,)\n",
      "0.5391875\n"
     ]
    }
   ],
   "source": [
    "from sklearn import cross_validation\n",
    "from sklearn.ensemble import RandomForestClassifier\n",
    "\n",
    "\n",
    "\n",
    "X_train = train_story_question\n",
    "Y_train = train_final_answer\n",
    "# Tuple of array dimensions\n",
    "print X_train.shape\n",
    "print Y_train.shape\n",
    "\n",
    "\n",
    "X_test = test_story_question\n",
    "Y_test = test_final_answer\n",
    "# Tuple of array dimensions\n",
    "print X_test.shape\n",
    "print Y_test.shape\n",
    "\n",
    "# Build the model of RandomForest (set number of trees as 100)\n",
    "clf = RandomForestClassifier(n_estimators=100)\n",
    "# Train the model by using training datasets\n",
    "clf = clf.fit(X_train,Y_train)\n",
    "# Test the model by using testing datasets\n",
    "score = clf.score(X_test,Y_test)"
   ]
  },
  {
   "cell_type": "code",
   "execution_count": null,
   "metadata": {
    "collapsed": true
   },
   "outputs": [],
   "source": []
  }
 ],
 "metadata": {
  "kernelspec": {
   "display_name": "Python 2",
   "language": "python",
   "name": "python2"
  },
  "language_info": {
   "codemirror_mode": {
    "name": "ipython",
    "version": 2
   },
   "file_extension": ".py",
   "mimetype": "text/x-python",
   "name": "python",
   "nbconvert_exporter": "python",
   "pygments_lexer": "ipython2",
   "version": "2.7.12"
  }
 },
 "nbformat": 4,
 "nbformat_minor": 2
}
